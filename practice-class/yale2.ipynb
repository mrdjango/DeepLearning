{
 "cells": [
  {
   "cell_type": "code",
   "execution_count": 10,
   "metadata": {},
   "outputs": [],
   "source": [
    "from sklearn.model_selection import train_test_split\n",
    "from sklearn.linear_model import LinearRegression\n",
    "from sklearn.metrics import mean_squared_error\n",
    "from sklearn.datasets import fetch_lfw_people\n",
    "import numpy as np\n",
    "from matplotlib import pyplot as plt"
   ]
  },
  {
   "cell_type": "code",
   "execution_count": 13,
   "metadata": {},
   "outputs": [
    {
     "name": "stdout",
     "output_type": "stream",
     "text": [
      "[[0.17124183 0.14901961 0.12287582 ... 0.1124183  0.13986929 0.15947713]\n",
      " [0.18692811 0.16470589 0.12810458 ... 0.12156863 0.14248367 0.1633987 ]\n",
      " [0.16732027 0.15686275 0.19607843 ... 0.12810458 0.14771242 0.18300654]\n",
      " ...\n",
      " [0.703268   0.3882353  0.17908497 ... 0.07712419 0.09803922 0.08496732]\n",
      " [0.2653595  0.16732027 0.15294118 ... 0.09281046 0.10588235 0.09542484]\n",
      " [0.14379086 0.14901961 0.14117648 ... 0.09673203 0.09934641 0.09411765]]\n",
      "(13233, 2914)\n",
      "(13233,)\n"
     ]
    }
   ],
   "source": [
    "# Load the Yale Face Database\n",
    "# Replace this with the actual code to load your data\n",
    "yale_faces = fetch_lfw_people()\n",
    "# Flatten the images and extract features\n",
    "X = yale_faces.images.reshape(len(yale_faces.images), -1)\n",
    "y = np.arange(len(yale_faces.images))\n",
    "# Split the data into training and testing sets\n",
    "X_train, X_test, y_train, y_test = train_test_split(\n",
    "    X, y, test_size=0.2, random_state=42\n",
    ")\n",
    "\n",
    "print(yale_faces.images[0])\n",
    "print(X.shape)\n",
    "print(y.shape)"
   ]
  },
  {
   "cell_type": "code",
   "execution_count": 12,
   "metadata": {},
   "outputs": [
    {
     "data": {
      "text/plain": [
       "<matplotlib.image.AxesImage at 0x7ff92a1276d0>"
      ]
     },
     "execution_count": 12,
     "metadata": {},
     "output_type": "execute_result"
    },
    {
     "data": {
      "image/png": "[encoded data removed]",
      "text/plain": [
       "<Figure size 640x480 with 1 Axes>"
      ]
     },
     "metadata": {},
     "output_type": "display_data"
    }
   ],
   "source": [
    "# show an image\n",
    "plt.imshow(yale_faces.images[2], cmap=\"gray\")"
   ]
  },
  {
   "cell_type": "code",
   "execution_count": 4,
   "metadata": {},
   "outputs": [],
   "source": [
    "# Initialize and train the regression model\n",
    "model = LinearRegression()\n",
    "model.fit(X_train, y_train)\n",
    "\n",
    "# Make predictions on the testing data\n",
    "y_pred = model.predict(X_test)"
   ]
  },
  {
   "cell_type": "code",
   "execution_count": null,
   "metadata": {},
   "outputs": [],
   "source": [
    "\n",
    "# Evaluate the model\n",
    "mse = mean_squared_error(y_test, y_pred)\n",
    "print(\"Mean Squared Error:\", mse)"
   ]
  }
 ],
 "metadata": {
  "kernelspec": {
   "display_name": "Python 3",
   "language": "python",
   "name": "python3"
  },
  "language_info": {
   "codemirror_mode": {
    "name": "ipython",
    "version": 3
   },
   "file_extension": ".py",
   "mimetype": "text/x-python",
   "name": "python",
   "nbconvert_exporter": "python",
   "pygments_lexer": "ipython3",
   "version": "3.10.13"
  }
 },
 "nbformat": 4,
 "nbformat_minor": 2
}
