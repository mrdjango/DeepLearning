{
 "cells": [
  {
   "cell_type": "code",
   "execution_count": 5,
   "metadata": {},
   "outputs": [],
   "source": [
    "import numpy as np  # linear algebra\n",
    "from sklearn.model_selection import train_test_split\n",
    "import pandas as pd  # data processing, CSV file I/O (e.g. pd.read_csv)\n",
    "from matplotlib import pyplot as plt\n",
    "import os\n",
    "from sklearn.model_selection import train_test_split\n",
    "from sklearn.model_selection import GridSearchCV\n",
    "from sklearn.metrics import classification_report, f1_score, make_scorer\n",
    "from sklearn.svm import SVC\n",
    "from sklearn.preprocessing import Normalizer, LabelEncoder\n",
    "\n",
    "from tensorflow.keras.layers import *\n",
    "from tensorflow.keras import Model\n",
    "from tensorflow.keras import models\n",
    "from tensorflow.keras import Sequential"
   ]
  },
  {
   "cell_type": "code",
   "execution_count": 6,
   "metadata": {},
   "outputs": [],
   "source": [
    "y = []\n",
    "X = []\n",
    "\n",
    "\n",
    "for dirname, _, filenames in os.walk(\"/kaggle/input/yale-face-database/data\"):\n",
    "\n",
    "    for filename in filenames:\n",
    "        if filename != \"Readme.txt\":\n",
    "            b = plt.imread(os.path.join(dirname, filename))\n",
    "\n",
    "            try:\n",
    "                b = cv2.cvtColor(b, cv2.COLOR_GRAY2RGB)\n",
    "            except:\n",
    "                pass\n",
    "\n",
    "            b = cv2.resize(b, (224, 224), interpolation=cv2.INTER_AREA)\n",
    "\n",
    "            if b.shape == (224, 224, 3):\n",
    "\n",
    "                y.append(int(filename[7:9]))\n",
    "                X.append(b)\n",
    "\n",
    "            else:\n",
    "                print(face.shape)"
   ]
  }
 ],
 "metadata": {
  "kernelspec": {
   "display_name": "Python 3",
   "language": "python",
   "name": "python3"
  },
  "language_info": {
   "codemirror_mode": {
    "name": "ipython",
    "version": 3
   },
   "file_extension": ".py",
   "mimetype": "text/x-python",
   "name": "python",
   "nbconvert_exporter": "python",
   "pygments_lexer": "ipython3",
   "version": "3.10.13"
  }
 },
 "nbformat": 4,
 "nbformat_minor": 2
}
